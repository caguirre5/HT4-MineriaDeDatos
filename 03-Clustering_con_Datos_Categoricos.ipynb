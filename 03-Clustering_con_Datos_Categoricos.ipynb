{
 "cells": [
  {
   "cell_type": "markdown",
   "metadata": {
    "tags": []
   },
   "source": [
    "# Clustering con Datos Categóricos 2"
   ]
  },
  {
   "cell_type": "markdown",
   "metadata": {},
   "source": [
    "Esta vez tenemos muchos más países.\n",
    "    \n",
    "También hay otros atributos: name y continent. "
   ]
  },
  {
   "cell_type": "markdown",
   "metadata": {},
   "source": [
    "## Importar las librerías relevantes"
   ]
  },
  {
   "cell_type": "code",
   "execution_count": 1,
   "metadata": {
    "tags": []
   },
   "outputs": [],
   "source": [
    "import pandas as pd\n",
    "import matplotlib.pyplot as plt\n",
    "import plotly.express as px\n",
    "import seaborn as sns\n",
    "sns.set()\n",
    "from sklearn.cluster import KMeans"
   ]
  },
  {
   "cell_type": "markdown",
   "metadata": {},
   "source": [
    "## Cargar los Datos"
   ]
  },
  {
   "cell_type": "markdown",
   "metadata": {},
   "source": [
    "Utilizar los datos del archivo csv: <i> 'Paises_Mundo.csv'</i>."
   ]
  },
  {
   "cell_type": "code",
   "execution_count": 2,
   "metadata": {
    "scrolled": true
   },
   "outputs": [
    {
     "data": {
      "text/html": [
       "<div>\n",
       "<style scoped>\n",
       "    .dataframe tbody tr th:only-of-type {\n",
       "        vertical-align: middle;\n",
       "    }\n",
       "\n",
       "    .dataframe tbody tr th {\n",
       "        vertical-align: top;\n",
       "    }\n",
       "\n",
       "    .dataframe thead th {\n",
       "        text-align: right;\n",
       "    }\n",
       "</style>\n",
       "<table border=\"1\" class=\"dataframe\">\n",
       "  <thead>\n",
       "    <tr style=\"text-align: right;\">\n",
       "      <th></th>\n",
       "      <th>Country</th>\n",
       "      <th>Longitude</th>\n",
       "      <th>Latitude</th>\n",
       "      <th>continent</th>\n",
       "    </tr>\n",
       "  </thead>\n",
       "  <tbody>\n",
       "    <tr>\n",
       "      <th>0</th>\n",
       "      <td>Aruba</td>\n",
       "      <td>-69.982677</td>\n",
       "      <td>12.520880</td>\n",
       "      <td>North America</td>\n",
       "    </tr>\n",
       "    <tr>\n",
       "      <th>1</th>\n",
       "      <td>Afghanistan</td>\n",
       "      <td>66.004734</td>\n",
       "      <td>33.835231</td>\n",
       "      <td>Asia</td>\n",
       "    </tr>\n",
       "    <tr>\n",
       "      <th>2</th>\n",
       "      <td>Angola</td>\n",
       "      <td>17.537368</td>\n",
       "      <td>-12.293361</td>\n",
       "      <td>Africa</td>\n",
       "    </tr>\n",
       "    <tr>\n",
       "      <th>3</th>\n",
       "      <td>Anguilla</td>\n",
       "      <td>-63.064989</td>\n",
       "      <td>18.223959</td>\n",
       "      <td>North America</td>\n",
       "    </tr>\n",
       "    <tr>\n",
       "      <th>4</th>\n",
       "      <td>Albania</td>\n",
       "      <td>20.049834</td>\n",
       "      <td>41.142450</td>\n",
       "      <td>Europe</td>\n",
       "    </tr>\n",
       "    <tr>\n",
       "      <th>...</th>\n",
       "      <td>...</td>\n",
       "      <td>...</td>\n",
       "      <td>...</td>\n",
       "      <td>...</td>\n",
       "    </tr>\n",
       "    <tr>\n",
       "      <th>236</th>\n",
       "      <td>Samoa</td>\n",
       "      <td>-172.164851</td>\n",
       "      <td>-13.753243</td>\n",
       "      <td>Oceania</td>\n",
       "    </tr>\n",
       "    <tr>\n",
       "      <th>237</th>\n",
       "      <td>Yemen</td>\n",
       "      <td>47.586762</td>\n",
       "      <td>15.909280</td>\n",
       "      <td>Asia</td>\n",
       "    </tr>\n",
       "    <tr>\n",
       "      <th>238</th>\n",
       "      <td>South Africa</td>\n",
       "      <td>25.083901</td>\n",
       "      <td>-29.000341</td>\n",
       "      <td>Africa</td>\n",
       "    </tr>\n",
       "    <tr>\n",
       "      <th>239</th>\n",
       "      <td>Zambia</td>\n",
       "      <td>27.774759</td>\n",
       "      <td>-13.458242</td>\n",
       "      <td>Africa</td>\n",
       "    </tr>\n",
       "    <tr>\n",
       "      <th>240</th>\n",
       "      <td>Zimbabwe</td>\n",
       "      <td>29.851441</td>\n",
       "      <td>-19.004204</td>\n",
       "      <td>Africa</td>\n",
       "    </tr>\n",
       "  </tbody>\n",
       "</table>\n",
       "<p>241 rows × 4 columns</p>\n",
       "</div>"
      ],
      "text/plain": [
       "          Country   Longitude   Latitude      continent\n",
       "0           Aruba  -69.982677  12.520880  North America\n",
       "1     Afghanistan   66.004734  33.835231           Asia\n",
       "2          Angola   17.537368 -12.293361         Africa\n",
       "3        Anguilla  -63.064989  18.223959  North America\n",
       "4         Albania   20.049834  41.142450         Europe\n",
       "..            ...         ...        ...            ...\n",
       "236         Samoa -172.164851 -13.753243        Oceania\n",
       "237         Yemen   47.586762  15.909280           Asia\n",
       "238  South Africa   25.083901 -29.000341         Africa\n",
       "239        Zambia   27.774759 -13.458242         Africa\n",
       "240      Zimbabwe   29.851441 -19.004204         Africa\n",
       "\n",
       "[241 rows x 4 columns]"
      ]
     },
     "execution_count": 2,
     "metadata": {},
     "output_type": "execute_result"
    }
   ],
   "source": [
    "datos = pd.read_csv('Paises_Mundo.csv')\n",
    "\n",
    "datos"
   ]
  },
  {
   "cell_type": "code",
   "execution_count": 3,
   "metadata": {},
   "outputs": [],
   "source": [
    "datos_copia = datos.copy()"
   ]
  },
  {
   "cell_type": "markdown",
   "metadata": {},
   "source": [
    "## Mapear los datos\n",
    "\n",
    "Se utilizará la categoría *continente* para este análisis"
   ]
  },
  {
   "cell_type": "code",
   "execution_count": 4,
   "metadata": {},
   "outputs": [
    {
     "data": {
      "text/html": [
       "<div>\n",
       "<style scoped>\n",
       "    .dataframe tbody tr th:only-of-type {\n",
       "        vertical-align: middle;\n",
       "    }\n",
       "\n",
       "    .dataframe tbody tr th {\n",
       "        vertical-align: top;\n",
       "    }\n",
       "\n",
       "    .dataframe thead th {\n",
       "        text-align: right;\n",
       "    }\n",
       "</style>\n",
       "<table border=\"1\" class=\"dataframe\">\n",
       "  <thead>\n",
       "    <tr style=\"text-align: right;\">\n",
       "      <th></th>\n",
       "      <th>Country</th>\n",
       "      <th>Longitude</th>\n",
       "      <th>Latitude</th>\n",
       "      <th>continent</th>\n",
       "    </tr>\n",
       "  </thead>\n",
       "  <tbody>\n",
       "    <tr>\n",
       "      <th>0</th>\n",
       "      <td>Aruba</td>\n",
       "      <td>-69.982677</td>\n",
       "      <td>12.520880</td>\n",
       "      <td>4</td>\n",
       "    </tr>\n",
       "    <tr>\n",
       "      <th>1</th>\n",
       "      <td>Afghanistan</td>\n",
       "      <td>66.004734</td>\n",
       "      <td>33.835231</td>\n",
       "      <td>2</td>\n",
       "    </tr>\n",
       "    <tr>\n",
       "      <th>2</th>\n",
       "      <td>Angola</td>\n",
       "      <td>17.537368</td>\n",
       "      <td>-12.293361</td>\n",
       "      <td>0</td>\n",
       "    </tr>\n",
       "    <tr>\n",
       "      <th>3</th>\n",
       "      <td>Anguilla</td>\n",
       "      <td>-63.064989</td>\n",
       "      <td>18.223959</td>\n",
       "      <td>4</td>\n",
       "    </tr>\n",
       "    <tr>\n",
       "      <th>4</th>\n",
       "      <td>Albania</td>\n",
       "      <td>20.049834</td>\n",
       "      <td>41.142450</td>\n",
       "      <td>3</td>\n",
       "    </tr>\n",
       "    <tr>\n",
       "      <th>...</th>\n",
       "      <td>...</td>\n",
       "      <td>...</td>\n",
       "      <td>...</td>\n",
       "      <td>...</td>\n",
       "    </tr>\n",
       "    <tr>\n",
       "      <th>236</th>\n",
       "      <td>Samoa</td>\n",
       "      <td>-172.164851</td>\n",
       "      <td>-13.753243</td>\n",
       "      <td>5</td>\n",
       "    </tr>\n",
       "    <tr>\n",
       "      <th>237</th>\n",
       "      <td>Yemen</td>\n",
       "      <td>47.586762</td>\n",
       "      <td>15.909280</td>\n",
       "      <td>2</td>\n",
       "    </tr>\n",
       "    <tr>\n",
       "      <th>238</th>\n",
       "      <td>South Africa</td>\n",
       "      <td>25.083901</td>\n",
       "      <td>-29.000341</td>\n",
       "      <td>0</td>\n",
       "    </tr>\n",
       "    <tr>\n",
       "      <th>239</th>\n",
       "      <td>Zambia</td>\n",
       "      <td>27.774759</td>\n",
       "      <td>-13.458242</td>\n",
       "      <td>0</td>\n",
       "    </tr>\n",
       "    <tr>\n",
       "      <th>240</th>\n",
       "      <td>Zimbabwe</td>\n",
       "      <td>29.851441</td>\n",
       "      <td>-19.004204</td>\n",
       "      <td>0</td>\n",
       "    </tr>\n",
       "  </tbody>\n",
       "</table>\n",
       "<p>241 rows × 4 columns</p>\n",
       "</div>"
      ],
      "text/plain": [
       "          Country   Longitude   Latitude  continent\n",
       "0           Aruba  -69.982677  12.520880          4\n",
       "1     Afghanistan   66.004734  33.835231          2\n",
       "2          Angola   17.537368 -12.293361          0\n",
       "3        Anguilla  -63.064989  18.223959          4\n",
       "4         Albania   20.049834  41.142450          3\n",
       "..            ...         ...        ...        ...\n",
       "236         Samoa -172.164851 -13.753243          5\n",
       "237         Yemen   47.586762  15.909280          2\n",
       "238  South Africa   25.083901 -29.000341          0\n",
       "239        Zambia   27.774759 -13.458242          0\n",
       "240      Zimbabwe   29.851441 -19.004204          0\n",
       "\n",
       "[241 rows x 4 columns]"
      ]
     },
     "execution_count": 4,
     "metadata": {},
     "output_type": "execute_result"
    }
   ],
   "source": [
    "datos_mapeados = datos.copy()\n",
    "datos_mapeados[\"continent\"] = datos_mapeados[\"continent\"].astype('category').cat.codes\n",
    "#datos_mapeados['continent'] = datos_mapeados['continent'].map({'North America':0,'Europe':1,'Asia':2,'Africa':3,'South America':4, 'Oceania':5,'Seven seas (open ocean)':6, 'Antarctica':7})\n",
    "datos_mapeados"
   ]
  },
  {
   "cell_type": "markdown",
   "metadata": {},
   "source": [
    "## Seleccionar los atributos"
   ]
  },
  {
   "cell_type": "code",
   "execution_count": 5,
   "metadata": {},
   "outputs": [],
   "source": [
    "x = datos_mapeados.iloc[:,3:4]"
   ]
  },
  {
   "cell_type": "markdown",
   "metadata": {},
   "source": [
    "## Clustering"
   ]
  },
  {
   "cell_type": "markdown",
   "metadata": {},
   "source": [
    "Inicialmente se utilizarán 4 clusters."
   ]
  },
  {
   "cell_type": "code",
   "execution_count": 6,
   "metadata": {
    "scrolled": true
   },
   "outputs": [
    {
     "name": "stderr",
     "output_type": "stream",
     "text": [
      "c:\\Users\\Cristian Aguirre\\AppData\\Local\\Programs\\Python\\Python310\\lib\\site-packages\\sklearn\\cluster\\_kmeans.py:870: FutureWarning: The default value of `n_init` will change from 10 to 'auto' in 1.4. Set the value of `n_init` explicitly to suppress the warning\n",
      "  warnings.warn(\n"
     ]
    },
    {
     "data": {
      "text/html": [
       "<style>#sk-container-id-1 {color: black;background-color: white;}#sk-container-id-1 pre{padding: 0;}#sk-container-id-1 div.sk-toggleable {background-color: white;}#sk-container-id-1 label.sk-toggleable__label {cursor: pointer;display: block;width: 100%;margin-bottom: 0;padding: 0.3em;box-sizing: border-box;text-align: center;}#sk-container-id-1 label.sk-toggleable__label-arrow:before {content: \"▸\";float: left;margin-right: 0.25em;color: #696969;}#sk-container-id-1 label.sk-toggleable__label-arrow:hover:before {color: black;}#sk-container-id-1 div.sk-estimator:hover label.sk-toggleable__label-arrow:before {color: black;}#sk-container-id-1 div.sk-toggleable__content {max-height: 0;max-width: 0;overflow: hidden;text-align: left;background-color: #f0f8ff;}#sk-container-id-1 div.sk-toggleable__content pre {margin: 0.2em;color: black;border-radius: 0.25em;background-color: #f0f8ff;}#sk-container-id-1 input.sk-toggleable__control:checked~div.sk-toggleable__content {max-height: 200px;max-width: 100%;overflow: auto;}#sk-container-id-1 input.sk-toggleable__control:checked~label.sk-toggleable__label-arrow:before {content: \"▾\";}#sk-container-id-1 div.sk-estimator input.sk-toggleable__control:checked~label.sk-toggleable__label {background-color: #d4ebff;}#sk-container-id-1 div.sk-label input.sk-toggleable__control:checked~label.sk-toggleable__label {background-color: #d4ebff;}#sk-container-id-1 input.sk-hidden--visually {border: 0;clip: rect(1px 1px 1px 1px);clip: rect(1px, 1px, 1px, 1px);height: 1px;margin: -1px;overflow: hidden;padding: 0;position: absolute;width: 1px;}#sk-container-id-1 div.sk-estimator {font-family: monospace;background-color: #f0f8ff;border: 1px dotted black;border-radius: 0.25em;box-sizing: border-box;margin-bottom: 0.5em;}#sk-container-id-1 div.sk-estimator:hover {background-color: #d4ebff;}#sk-container-id-1 div.sk-parallel-item::after {content: \"\";width: 100%;border-bottom: 1px solid gray;flex-grow: 1;}#sk-container-id-1 div.sk-label:hover label.sk-toggleable__label {background-color: #d4ebff;}#sk-container-id-1 div.sk-serial::before {content: \"\";position: absolute;border-left: 1px solid gray;box-sizing: border-box;top: 0;bottom: 0;left: 50%;z-index: 0;}#sk-container-id-1 div.sk-serial {display: flex;flex-direction: column;align-items: center;background-color: white;padding-right: 0.2em;padding-left: 0.2em;position: relative;}#sk-container-id-1 div.sk-item {position: relative;z-index: 1;}#sk-container-id-1 div.sk-parallel {display: flex;align-items: stretch;justify-content: center;background-color: white;position: relative;}#sk-container-id-1 div.sk-item::before, #sk-container-id-1 div.sk-parallel-item::before {content: \"\";position: absolute;border-left: 1px solid gray;box-sizing: border-box;top: 0;bottom: 0;left: 50%;z-index: -1;}#sk-container-id-1 div.sk-parallel-item {display: flex;flex-direction: column;z-index: 1;position: relative;background-color: white;}#sk-container-id-1 div.sk-parallel-item:first-child::after {align-self: flex-end;width: 50%;}#sk-container-id-1 div.sk-parallel-item:last-child::after {align-self: flex-start;width: 50%;}#sk-container-id-1 div.sk-parallel-item:only-child::after {width: 0;}#sk-container-id-1 div.sk-dashed-wrapped {border: 1px dashed gray;margin: 0 0.4em 0.5em 0.4em;box-sizing: border-box;padding-bottom: 0.4em;background-color: white;}#sk-container-id-1 div.sk-label label {font-family: monospace;font-weight: bold;display: inline-block;line-height: 1.2em;}#sk-container-id-1 div.sk-label-container {text-align: center;}#sk-container-id-1 div.sk-container {/* jupyter's `normalize.less` sets `[hidden] { display: none; }` but bootstrap.min.css set `[hidden] { display: none !important; }` so we also need the `!important` here to be able to override the default hidden behavior on the sphinx rendered scikit-learn.org. See: https://github.com/scikit-learn/scikit-learn/issues/21755 */display: inline-block !important;position: relative;}#sk-container-id-1 div.sk-text-repr-fallback {display: none;}</style><div id=\"sk-container-id-1\" class=\"sk-top-container\"><div class=\"sk-text-repr-fallback\"><pre>KMeans(n_clusters=7)</pre><b>In a Jupyter environment, please rerun this cell to show the HTML representation or trust the notebook. <br />On GitHub, the HTML representation is unable to render, please try loading this page with nbviewer.org.</b></div><div class=\"sk-container\" hidden><div class=\"sk-item\"><div class=\"sk-estimator sk-toggleable\"><input class=\"sk-toggleable__control sk-hidden--visually\" id=\"sk-estimator-id-1\" type=\"checkbox\" checked><label for=\"sk-estimator-id-1\" class=\"sk-toggleable__label sk-toggleable__label-arrow\">KMeans</label><div class=\"sk-toggleable__content\"><pre>KMeans(n_clusters=7)</pre></div></div></div></div></div>"
      ],
      "text/plain": [
       "KMeans(n_clusters=7)"
      ]
     },
     "execution_count": 6,
     "metadata": {},
     "output_type": "execute_result"
    }
   ],
   "source": [
    "kmeans = KMeans(7)\n",
    "kmeans.fit(x)"
   ]
  },
  {
   "cell_type": "markdown",
   "metadata": {},
   "source": [
    "## Resultados del Clustering"
   ]
  },
  {
   "cell_type": "code",
   "execution_count": 7,
   "metadata": {},
   "outputs": [
    {
     "name": "stderr",
     "output_type": "stream",
     "text": [
      "c:\\Users\\Cristian Aguirre\\AppData\\Local\\Programs\\Python\\Python310\\lib\\site-packages\\sklearn\\cluster\\_kmeans.py:870: FutureWarning: The default value of `n_init` will change from 10 to 'auto' in 1.4. Set the value of `n_init` explicitly to suppress the warning\n",
      "  warnings.warn(\n"
     ]
    },
    {
     "data": {
      "text/plain": [
       "array([1, 4, 0, 1, 2, 2, 2, 4, 3, 4, 6, 4, 6, 5, 1, 6, 2, 4, 0, 2, 0, 0,\n",
       "       4, 2, 4, 1, 1, 2, 1, 2, 1, 1, 3, 3, 1, 4, 4, 0, 0, 2, 3, 4, 0, 0,\n",
       "       0, 0, 6, 3, 0, 0, 1, 1, 1, 1, 4, 4, 2, 2, 0, 1, 2, 1, 0, 3, 0, 0,\n",
       "       2, 2, 0, 2, 6, 3, 2, 2, 6, 0, 2, 4, 2, 0, 0, 0, 0, 0, 2, 1, 1, 1,\n",
       "       6, 3, 4, 5, 1, 2, 1, 2, 4, 2, 4, 4, 5, 2, 4, 4, 2, 4, 2, 1, 2, 4,\n",
       "       4, 4, 4, 0, 4, 4, 6, 1, 4, 2, 4, 4, 4, 0, 0, 1, 2, 4, 0, 2, 2, 2,\n",
       "       4, 1, 0, 2, 2, 0, 5, 1, 6, 2, 0, 2, 4, 2, 4, 6, 0, 0, 1, 5, 0, 4,\n",
       "       0, 6, 0, 6, 0, 1, 6, 2, 2, 4, 6, 6, 4, 4, 1, 6, 3, 4, 6, 6, 2, 1,\n",
       "       4, 2, 3, 4, 6, 4, 2, 2, 0, 0, 4, 0, 0, 0, 4, 5, 5, 6, 0, 1, 2, 0,\n",
       "       0, 1, 2, 0, 3, 2, 2, 2, 0, 1, 5, 4, 1, 0, 0, 4, 4, 4, 4, 6, 1, 0,\n",
       "       4, 4, 0, 0, 2, 3, 1, 4, 2, 1, 3, 1, 1, 4, 6, 6, 6, 4, 0, 0, 0])"
      ]
     },
     "execution_count": 7,
     "metadata": {},
     "output_type": "execute_result"
    }
   ],
   "source": [
    "clusters_identificados = kmeans.fit_predict(x)\n",
    "clusters_identificados"
   ]
  },
  {
   "cell_type": "code",
   "execution_count": 8,
   "metadata": {
    "scrolled": true
   },
   "outputs": [
    {
     "data": {
      "text/html": [
       "<div>\n",
       "<style scoped>\n",
       "    .dataframe tbody tr th:only-of-type {\n",
       "        vertical-align: middle;\n",
       "    }\n",
       "\n",
       "    .dataframe tbody tr th {\n",
       "        vertical-align: top;\n",
       "    }\n",
       "\n",
       "    .dataframe thead th {\n",
       "        text-align: right;\n",
       "    }\n",
       "</style>\n",
       "<table border=\"1\" class=\"dataframe\">\n",
       "  <thead>\n",
       "    <tr style=\"text-align: right;\">\n",
       "      <th></th>\n",
       "      <th>Country</th>\n",
       "      <th>Longitude</th>\n",
       "      <th>Latitude</th>\n",
       "      <th>continent</th>\n",
       "      <th>Cluster</th>\n",
       "    </tr>\n",
       "  </thead>\n",
       "  <tbody>\n",
       "    <tr>\n",
       "      <th>0</th>\n",
       "      <td>Aruba</td>\n",
       "      <td>-69.982677</td>\n",
       "      <td>12.520880</td>\n",
       "      <td>4</td>\n",
       "      <td>1</td>\n",
       "    </tr>\n",
       "    <tr>\n",
       "      <th>1</th>\n",
       "      <td>Afghanistan</td>\n",
       "      <td>66.004734</td>\n",
       "      <td>33.835231</td>\n",
       "      <td>2</td>\n",
       "      <td>4</td>\n",
       "    </tr>\n",
       "    <tr>\n",
       "      <th>2</th>\n",
       "      <td>Angola</td>\n",
       "      <td>17.537368</td>\n",
       "      <td>-12.293361</td>\n",
       "      <td>0</td>\n",
       "      <td>0</td>\n",
       "    </tr>\n",
       "    <tr>\n",
       "      <th>3</th>\n",
       "      <td>Anguilla</td>\n",
       "      <td>-63.064989</td>\n",
       "      <td>18.223959</td>\n",
       "      <td>4</td>\n",
       "      <td>1</td>\n",
       "    </tr>\n",
       "    <tr>\n",
       "      <th>4</th>\n",
       "      <td>Albania</td>\n",
       "      <td>20.049834</td>\n",
       "      <td>41.142450</td>\n",
       "      <td>3</td>\n",
       "      <td>2</td>\n",
       "    </tr>\n",
       "    <tr>\n",
       "      <th>...</th>\n",
       "      <td>...</td>\n",
       "      <td>...</td>\n",
       "      <td>...</td>\n",
       "      <td>...</td>\n",
       "      <td>...</td>\n",
       "    </tr>\n",
       "    <tr>\n",
       "      <th>236</th>\n",
       "      <td>Samoa</td>\n",
       "      <td>-172.164851</td>\n",
       "      <td>-13.753243</td>\n",
       "      <td>5</td>\n",
       "      <td>6</td>\n",
       "    </tr>\n",
       "    <tr>\n",
       "      <th>237</th>\n",
       "      <td>Yemen</td>\n",
       "      <td>47.586762</td>\n",
       "      <td>15.909280</td>\n",
       "      <td>2</td>\n",
       "      <td>4</td>\n",
       "    </tr>\n",
       "    <tr>\n",
       "      <th>238</th>\n",
       "      <td>South Africa</td>\n",
       "      <td>25.083901</td>\n",
       "      <td>-29.000341</td>\n",
       "      <td>0</td>\n",
       "      <td>0</td>\n",
       "    </tr>\n",
       "    <tr>\n",
       "      <th>239</th>\n",
       "      <td>Zambia</td>\n",
       "      <td>27.774759</td>\n",
       "      <td>-13.458242</td>\n",
       "      <td>0</td>\n",
       "      <td>0</td>\n",
       "    </tr>\n",
       "    <tr>\n",
       "      <th>240</th>\n",
       "      <td>Zimbabwe</td>\n",
       "      <td>29.851441</td>\n",
       "      <td>-19.004204</td>\n",
       "      <td>0</td>\n",
       "      <td>0</td>\n",
       "    </tr>\n",
       "  </tbody>\n",
       "</table>\n",
       "<p>241 rows × 5 columns</p>\n",
       "</div>"
      ],
      "text/plain": [
       "          Country   Longitude   Latitude  continent  Cluster\n",
       "0           Aruba  -69.982677  12.520880          4        1\n",
       "1     Afghanistan   66.004734  33.835231          2        4\n",
       "2          Angola   17.537368 -12.293361          0        0\n",
       "3        Anguilla  -63.064989  18.223959          4        1\n",
       "4         Albania   20.049834  41.142450          3        2\n",
       "..            ...         ...        ...        ...      ...\n",
       "236         Samoa -172.164851 -13.753243          5        6\n",
       "237         Yemen   47.586762  15.909280          2        4\n",
       "238  South Africa   25.083901 -29.000341          0        0\n",
       "239        Zambia   27.774759 -13.458242          0        0\n",
       "240      Zimbabwe   29.851441 -19.004204          0        0\n",
       "\n",
       "[241 rows x 5 columns]"
      ]
     },
     "execution_count": 8,
     "metadata": {},
     "output_type": "execute_result"
    }
   ],
   "source": [
    "datos_con_clusters = datos_mapeados.copy()\n",
    "datos_con_clusters['Cluster'] = clusters_identificados\n",
    "datos_con_clusters"
   ]
  },
  {
   "cell_type": "markdown",
   "metadata": {},
   "source": [
    "## Graficar los datos\n",
    "\n",
    "Graficar los datos utilizando la longitud y latitud\n",
    "\n",
    "color es un argumento que se puede codificar con una variable\n",
    "\n",
    "Todos los puntos en cada cluster tendran el mismo color"
   ]
  },
  {
   "cell_type": "code",
   "execution_count": 9,
   "metadata": {},
   "outputs": [
    {
     "data": {
      "application/vnd.plotly.v1+json": {
       "config": {
        "plotlyServerURL": "https://plot.ly"
       },
       "data": [
        {
         "customdata": [
          [
           "Aruba"
          ],
          [
           "Anguilla"
          ],
          [
           "Antigua and Barb."
          ],
          [
           "Canada"
          ],
          [
           "Bahamas"
          ],
          [
           "St-BarthÃ©lemy"
          ],
          [
           "Belize"
          ],
          [
           "Bermuda"
          ],
          [
           "Barbados"
          ],
          [
           "Costa Rica"
          ],
          [
           "Cuba"
          ],
          [
           "CuraÃ§ao"
          ],
          [
           "Cayman Is."
          ],
          [
           "Dominica"
          ],
          [
           "Dominican Rep."
          ],
          [
           "Grenada"
          ],
          [
           "Greenland"
          ],
          [
           "Guatemala"
          ],
          [
           "Honduras"
          ],
          [
           "Haiti"
          ],
          [
           "Jamaica"
          ],
          [
           "St. Kitts and Nevis"
          ],
          [
           "Saint Lucia"
          ],
          [
           "St-Martin"
          ],
          [
           "Mexico"
          ],
          [
           "Montserrat"
          ],
          [
           "Nicaragua"
          ],
          [
           "Panama"
          ],
          [
           "Puerto Rico"
          ],
          [
           "El Salvador"
          ],
          [
           "St. Pierre and Miquelon"
          ],
          [
           "Sint Maarten"
          ],
          [
           "Turks and Caicos Is."
          ],
          [
           "Trinidad and Tobago"
          ],
          [
           "United States"
          ],
          [
           "St. Vin. and Gren."
          ],
          [
           "British Virgin Is."
          ],
          [
           "U.S. Virgin Is."
          ]
         ],
         "hovertemplate": "Cluster=1<br>Longitude=%{x}<br>Latitude=%{y}<br>Country=%{customdata[0]}<extra></extra>",
         "legendgroup": "1",
         "marker": {
          "color": "#636efa",
          "symbol": "circle"
         },
         "mode": "markers",
         "name": "1",
         "orientation": "v",
         "showlegend": true,
         "type": "scatter",
         "x": [
          -69.98267711,
          -63.06498927,
          -61.79469343,
          -98.30777028,
          -76.62843038,
          -62.84067779,
          -88.71010486,
          -64.7545589,
          -59.559797,
          -84.19208768,
          -79.01605384,
          -68.97119369,
          -80.91213321,
          -61.357726,
          -70.50568896,
          -61.68220189,
          -41.34191127,
          -90.36482009,
          -86.6151661,
          -72.68527509,
          -77.31482593,
          -62.68755265,
          -60.96969923,
          -63.05972851,
          -102.5234517,
          -62.18518546,
          -85.0305297,
          -80.11915156,
          -66.47307604,
          -88.87164469,
          -56.30319779,
          -63.05713363,
          -71.97387881,
          -61.26567923,
          -112.4616737,
          -61.20129695,
          -64.47146992,
          -64.80301538
         ],
         "xaxis": "x",
         "y": [
          12.52088038,
          18.2239595,
          17.2774996,
          61.36206324,
          24.29036702,
          17.89880451,
          17.20027509,
          32.31367802,
          13.18145428,
          9.97634464,
          21.62289528,
          12.19551675,
          19.42896497,
          15.4394702,
          18.89433082,
          12.11725044,
          74.71051289,
          15.69403664,
          14.82688165,
          18.93502563,
          18.15694878,
          17.2645995,
          13.89479481,
          18.08888611,
          23.94753724,
          16.73941406,
          12.84709429,
          8.51750797,
          18.22813055,
          13.73943744,
          46.91918789,
          18.05081728,
          21.83047572,
          10.45733408,
          45.6795472,
          13.22472269,
          18.52585755,
          17.95500624
         ],
         "yaxis": "y"
        },
        {
         "customdata": [
          [
           "Afghanistan"
          ],
          [
           "United Arab Emirates"
          ],
          [
           "Armenia"
          ],
          [
           "Antarctica"
          ],
          [
           "Azerbaijan"
          ],
          [
           "Bangladesh"
          ],
          [
           "Bahrain"
          ],
          [
           "Brunei"
          ],
          [
           "Bhutan"
          ],
          [
           "China"
          ],
          [
           "N. Cyprus"
          ],
          [
           "Cyprus"
          ],
          [
           "Georgia"
          ],
          [
           "Hong Kong"
          ],
          [
           "Indonesia"
          ],
          [
           "India"
          ],
          [
           "Indian Ocean Ter."
          ],
          [
           "Iran"
          ],
          [
           "Iraq"
          ],
          [
           "Israel"
          ],
          [
           "Jordan"
          ],
          [
           "Japan"
          ],
          [
           "Siachen Glacier"
          ],
          [
           "Kazakhstan"
          ],
          [
           "Kyrgyzstan"
          ],
          [
           "Cambodia"
          ],
          [
           "Korea"
          ],
          [
           "Kuwait"
          ],
          [
           "Lao PDR"
          ],
          [
           "Lebanon"
          ],
          [
           "Sri Lanka"
          ],
          [
           "Macao"
          ],
          [
           "Myanmar"
          ],
          [
           "Mongolia"
          ],
          [
           "Malaysia"
          ],
          [
           "Nepal"
          ],
          [
           "Oman"
          ],
          [
           "Pakistan"
          ],
          [
           "Philippines"
          ],
          [
           "Dem. Rep. Korea"
          ],
          [
           "Palestine"
          ],
          [
           "Qatar"
          ],
          [
           "Saudi Arabia"
          ],
          [
           "Singapore"
          ],
          [
           "Syria"
          ],
          [
           "Thailand"
          ],
          [
           "Tajikistan"
          ],
          [
           "Turkmenistan"
          ],
          [
           "Timor-Leste"
          ],
          [
           "Turkey"
          ],
          [
           "Taiwan"
          ],
          [
           "Uzbekistan"
          ],
          [
           "Vietnam"
          ],
          [
           "Yemen"
          ]
         ],
         "hovertemplate": "Cluster=4<br>Longitude=%{x}<br>Latitude=%{y}<br>Country=%{customdata[0]}<extra></extra>",
         "legendgroup": "4",
         "marker": {
          "color": "#EF553B",
          "symbol": "circle"
         },
         "mode": "markers",
         "name": "4",
         "orientation": "v",
         "showlegend": true,
         "type": "scatter",
         "x": [
          66.00473366,
          54.3001671,
          44.92993276,
          19.92108951,
          47.54599879,
          90.23812743,
          50.54196932,
          114.7220304,
          90.40188155,
          103.8190735,
          33.5684813,
          33.0060022,
          43.50780252,
          114.1138045,
          117.2401137,
          79.6119761,
          104.851898,
          54.27407004,
          43.74353149,
          35.00444693,
          36.77136104,
          138.0308956,
          77.18011865,
          67.29149357,
          74.54165513,
          104.9069433,
          127.8391609,
          47.58700459,
          103.7377241,
          35.88016072,
          80.70108238,
          113.5093212,
          96.48843321,
          103.0529977,
          109.6976228,
          83.9158264,
          56.09166155,
          69.33957937,
          122.8839325,
          127.1924797,
          35.19628705,
          51.18479632,
          44.53686271,
          103.8172559,
          38.50788204,
          101.0028813,
          71.01362631,
          59.37100021,
          125.8443898,
          35.16895346,
          120.9542728,
          63.14001528,
          106.299147,
          47.58676189
         ],
         "xaxis": "x",
         "y": [
          33.83523073,
          23.90528188,
          40.28952569,
          -80.50857913,
          40.28827235,
          23.86731158,
          26.04205135,
          4.51968958,
          27.41106589,
          36.56176546,
          35.26277486,
          34.91667211,
          42.16855755,
          22.39827737,
          -2.21505456,
          22.88578212,
          -10.6478515,
          32.57503292,
          33.03970582,
          31.46110101,
          31.24579091,
          37.59230135,
          35.39236325,
          48.15688067,
          41.46221943,
          12.72004786,
          36.38523983,
          29.33431262,
          18.50217433,
          33.92306631,
          7.61266509,
          22.22311688,
          21.18566599,
          46.82681544,
          3.78986846,
          28.24891365,
          20.60515333,
          29.9497515,
          11.77536778,
          40.15350311,
          31.91613893,
          25.30601188,
          24.12245841,
          1.35876087,
          35.02547389,
          15.11815794,
          38.5304539,
          39.11554137,
          -8.82889162,
          39.0616029,
          23.7539928,
          41.75554225,
          16.6460167,
          15.90928005
         ],
         "yaxis": "y"
        },
        {
         "customdata": [
          [
           "Angola"
          ],
          [
           "Burundi"
          ],
          [
           "Benin"
          ],
          [
           "Burkina Faso"
          ],
          [
           "Botswana"
          ],
          [
           "Central African Rep."
          ],
          [
           "CÃ´te d'Ivoire"
          ],
          [
           "Cameroon"
          ],
          [
           "Dem. Rep. Congo"
          ],
          [
           "Congo"
          ],
          [
           "Comoros"
          ],
          [
           "Cape Verde"
          ],
          [
           "Djibouti"
          ],
          [
           "Algeria"
          ],
          [
           "Egypt"
          ],
          [
           "Eritrea"
          ],
          [
           "Ethiopia"
          ],
          [
           "Gabon"
          ],
          [
           "Ghana"
          ],
          [
           "Guinea"
          ],
          [
           "Gambia"
          ],
          [
           "Guinea-Bissau"
          ],
          [
           "Eq. Guinea"
          ],
          [
           "Kenya"
          ],
          [
           "Liberia"
          ],
          [
           "Libya"
          ],
          [
           "Lesotho"
          ],
          [
           "Morocco"
          ],
          [
           "Madagascar"
          ],
          [
           "Mali"
          ],
          [
           "Mozambique"
          ],
          [
           "Mauritania"
          ],
          [
           "Malawi"
          ],
          [
           "Namibia"
          ],
          [
           "Niger"
          ],
          [
           "Nigeria"
          ],
          [
           "Rwanda"
          ],
          [
           "W. Sahara"
          ],
          [
           "Sudan"
          ],
          [
           "S. Sudan"
          ],
          [
           "Senegal"
          ],
          [
           "Sierra Leone"
          ],
          [
           "Somaliland"
          ],
          [
           "Somalia"
          ],
          [
           "SÃ£o TomÃ© and Principe"
          ],
          [
           "Swaziland"
          ],
          [
           "Chad"
          ],
          [
           "Togo"
          ],
          [
           "Tunisia"
          ],
          [
           "Tanzania"
          ],
          [
           "Uganda"
          ],
          [
           "South Africa"
          ],
          [
           "Zambia"
          ],
          [
           "Zimbabwe"
          ]
         ],
         "hovertemplate": "Cluster=0<br>Longitude=%{x}<br>Latitude=%{y}<br>Country=%{customdata[0]}<extra></extra>",
         "legendgroup": "0",
         "marker": {
          "color": "#00cc96",
          "symbol": "circle"
         },
         "mode": "markers",
         "name": "0",
         "orientation": "v",
         "showlegend": true,
         "type": "scatter",
         "x": [
          17.53736768,
          29.87512156,
          2.32785254,
          -1.75456601,
          23.79853368,
          20.46826831,
          -5.5692157,
          12.73964156,
          23.64396107,
          15.21965762,
          43.68253968,
          -23.9598882,
          42.5606754,
          2.61732301,
          29.86190099,
          38.84617011,
          39.60080098,
          11.7886287,
          -1.21676566,
          -10.94066612,
          -15.39601295,
          -14.94972445,
          10.34137924,
          37.79593973,
          -9.32207573,
          18.00866169,
          28.22723131,
          -8.45615795,
          46.70473674,
          -3.54269065,
          35.53367543,
          -10.34779815,
          34.28935599,
          17.20963567,
          9.38545882,
          8.08943895,
          29.91988515,
          -12.21982755,
          29.94046812,
          30.24790002,
          -14.4734924,
          -11.79271247,
          46.25198395,
          45.70714487,
          6.72429658,
          31.4819369,
          18.64492513,
          0.96232845,
          9.55288359,
          34.81309981,
          32.36907971,
          25.08390093,
          27.77475946,
          29.8514412
         ],
         "xaxis": "x",
         "y": [
          -12.29336054,
          -3.35939666,
          9.6417597,
          12.26953846,
          -22.18403213,
          6.56823297,
          7.6284262,
          5.69109849,
          -2.87746289,
          -0.83787463,
          -11.87783444,
          15.95523324,
          11.74871806,
          28.15893849,
          26.49593311,
          15.36186618,
          8.62278679,
          -0.58660025,
          7.95345644,
          10.43621593,
          13.44965244,
          12.04744948,
          1.70555135,
          0.59988022,
          6.45278492,
          27.03094495,
          -29.58003188,
          29.83762955,
          -19.37189587,
          17.34581581,
          -17.27381643,
          20.25736706,
          -13.21808088,
          -22.13032568,
          17.41912493,
          9.59411452,
          -1.99033832,
          24.22956739,
          15.99035669,
          7.30877945,
          14.36624173,
          8.56329593,
          9.73345496,
          4.75062876,
          0.44391445,
          -26.55843045,
          15.33333758,
          8.52531356,
          34.11956246,
          -6.27565408,
          1.27469299,
          -29.00034095,
          -13.45824152,
          -19.00420419
         ],
         "yaxis": "y"
        },
        {
         "customdata": [
          [
           "Albania"
          ],
          [
           "Aland"
          ],
          [
           "Andorra"
          ],
          [
           "Austria"
          ],
          [
           "Belgium"
          ],
          [
           "Bulgaria"
          ],
          [
           "Bosnia and Herz."
          ],
          [
           "Belarus"
          ],
          [
           "Switzerland"
          ],
          [
           "Czech Rep."
          ],
          [
           "Germany"
          ],
          [
           "Denmark"
          ],
          [
           "Spain"
          ],
          [
           "Estonia"
          ],
          [
           "Finland"
          ],
          [
           "France"
          ],
          [
           "Faeroe Is."
          ],
          [
           "United Kingdom"
          ],
          [
           "Guernsey"
          ],
          [
           "Greece"
          ],
          [
           "Croatia"
          ],
          [
           "Hungary"
          ],
          [
           "Isle of Man"
          ],
          [
           "Ireland"
          ],
          [
           "Iceland"
          ],
          [
           "Italy"
          ],
          [
           "Jersey"
          ],
          [
           "Kosovo"
          ],
          [
           "Liechtenstein"
          ],
          [
           "Lithuania"
          ],
          [
           "Luxembourg"
          ],
          [
           "Latvia"
          ],
          [
           "Monaco"
          ],
          [
           "Moldova"
          ],
          [
           "Macedonia"
          ],
          [
           "Malta"
          ],
          [
           "Montenegro"
          ],
          [
           "Netherlands"
          ],
          [
           "Norway"
          ],
          [
           "Poland"
          ],
          [
           "Portugal"
          ],
          [
           "Romania"
          ],
          [
           "Russia"
          ],
          [
           "San Marino"
          ],
          [
           "Serbia"
          ],
          [
           "Slovakia"
          ],
          [
           "Slovenia"
          ],
          [
           "Sweden"
          ],
          [
           "Ukraine"
          ],
          [
           "Vatican"
          ]
         ],
         "hovertemplate": "Cluster=2<br>Longitude=%{x}<br>Latitude=%{y}<br>Country=%{customdata[0]}<extra></extra>",
         "legendgroup": "2",
         "marker": {
          "color": "#ab63fa",
          "symbol": "circle"
         },
         "mode": "markers",
         "name": "2",
         "orientation": "v",
         "showlegend": true,
         "type": "scatter",
         "x": [
          20.04983396,
          19.95328768,
          1.56054378,
          14.1264761,
          4.64065114,
          25.21552909,
          17.76876733,
          28.03209307,
          8.20867471,
          15.31240163,
          10.38578051,
          10.02800992,
          -3.64755047,
          25.54248537,
          26.2746656,
          -2.76172945,
          -6.88095423,
          -2.86563164,
          -2.57239064,
          22.95555794,
          16.40412899,
          19.39559116,
          -4.53873952,
          -8.13793569,
          -18.57396167,
          12.07001339,
          -2.12689938,
          20.87249811,
          9.53574312,
          23.88719355,
          6.07182201,
          24.91235983,
          7.40627677,
          28.45673372,
          21.68211346,
          14.40523316,
          19.23883939,
          5.28144793,
          15.34834656,
          19.39012835,
          -8.50104361,
          24.97293039,
          96.68656112,
          12.45922334,
          20.78958334,
          19.47905218,
          14.80444238,
          16.74558049,
          31.38326469,
          12.43387177
         ],
         "xaxis": "x",
         "y": [
          41.14244989,
          60.21488688,
          42.54229102,
          47.58549439,
          50.63981576,
          42.76890318,
          44.17450125,
          53.53131377,
          46.79785878,
          49.73341233,
          51.10698181,
          55.98125296,
          40.24448698,
          58.67192972,
          64.49884603,
          42.17344011,
          62.05385403,
          54.12387156,
          49.46809761,
          39.07469623,
          45.08047631,
          47.16277506,
          54.22418911,
          53.1754487,
          64.99575386,
          42.79662641,
          49.21837377,
          42.57078707,
          47.13665835,
          55.32610984,
          49.76725361,
          56.85085163,
          43.75274627,
          47.19498804,
          41.59530893,
          35.92149632,
          42.78890259,
          52.1007899,
          68.75015572,
          52.12759564,
          39.59550671,
          45.85243127,
          61.98052209,
          43.94186747,
          44.2215032,
          48.70547528,
          46.11554772,
          62.77966519,
          48.99656673,
          41.90174985
         ],
         "yaxis": "y"
        },
        {
         "customdata": [
          [
           "Argentina"
          ],
          [
           "Bolivia"
          ],
          [
           "Brazil"
          ],
          [
           "Chile"
          ],
          [
           "Colombia"
          ],
          [
           "Ecuador"
          ],
          [
           "Falkland Is."
          ],
          [
           "Guyana"
          ],
          [
           "Peru"
          ],
          [
           "Paraguay"
          ],
          [
           "Suriname"
          ],
          [
           "Uruguay"
          ],
          [
           "Venezuela"
          ]
         ],
         "hovertemplate": "Cluster=3<br>Longitude=%{x}<br>Latitude=%{y}<br>Country=%{customdata[0]}<extra></extra>",
         "legendgroup": "3",
         "marker": {
          "color": "#FFA15A",
          "symbol": "circle"
         },
         "mode": "markers",
         "name": "3",
         "orientation": "v",
         "showlegend": true,
         "type": "scatter",
         "x": [
          -65.17980692,
          -64.68538645,
          -53.09783113,
          -71.38256213,
          -73.08114582,
          -78.75201922,
          -59.35238956,
          -58.98202459,
          -74.38242685,
          -58.40013703,
          -55.9123457,
          -56.01807053,
          -66.18184123
         ],
         "xaxis": "x",
         "y": [
          -35.3813488,
          -16.70814787,
          -10.78777702,
          -37.73070989,
          3.91383431,
          -1.42381612,
          -51.74483954,
          4.79378034,
          -9.15280381,
          -23.22823913,
          4.13055413,
          -32.79951534,
          7.12422421
         ],
         "yaxis": "y"
        },
        {
         "customdata": [
          [
           "American Samoa"
          ],
          [
           "Ashmore and Cartier Is."
          ],
          [
           "Australia"
          ],
          [
           "Cook Is."
          ],
          [
           "Fiji"
          ],
          [
           "Micronesia"
          ],
          [
           "Guam"
          ],
          [
           "Kiribati"
          ],
          [
           "Marshall Is."
          ],
          [
           "N. Mariana Is."
          ],
          [
           "New Caledonia"
          ],
          [
           "Norfolk Island"
          ],
          [
           "Niue"
          ],
          [
           "Nauru"
          ],
          [
           "New Zealand"
          ],
          [
           "Pitcairn Is."
          ],
          [
           "Palau"
          ],
          [
           "Papua New Guinea"
          ],
          [
           "Fr. Polynesia"
          ],
          [
           "Solomon Is."
          ],
          [
           "Tonga"
          ],
          [
           "Vanuatu"
          ],
          [
           "Wallis and Futuna Is."
          ],
          [
           "Samoa"
          ]
         ],
         "hovertemplate": "Cluster=6<br>Longitude=%{x}<br>Latitude=%{y}<br>Country=%{customdata[0]}<extra></extra>",
         "legendgroup": "6",
         "marker": {
          "color": "#19d3f3",
          "symbol": "circle"
         },
         "mode": "markers",
         "name": "6",
         "orientation": "v",
         "showlegend": true,
         "type": "scatter",
         "x": [
          -170.7180258,
          123.5838379,
          134.4910001,
          -159.7872422,
          165.4519543,
          153.2394379,
          144.7679102,
          -45.61110513,
          170.3397612,
          145.6196965,
          165.6849237,
          167.9492168,
          -169.8699468,
          166.9325682,
          171.4849235,
          -128.317042,
          134.4080797,
          145.2074475,
          -144.9049439,
          159.6328767,
          -174.8098734,
          167.6864464,
          -177.3483483,
          -172.1648506
         ],
         "xaxis": "x",
         "y": [
          -14.30445997,
          -12.42993164,
          -25.73288704,
          -21.21927288,
          -17.42858032,
          7.45246814,
          13.44165626,
          0.86001503,
          7.00376358,
          15.82927563,
          -21.29991806,
          -29.0514609,
          -19.04945708,
          -0.51912639,
          -41.81113557,
          -24.36500535,
          7.28742784,
          -6.46416646,
          -14.72227409,
          -8.92178022,
          -20.42843174,
          -16.22640909,
          -13.88737039,
          -13.75324346
         ],
         "yaxis": "y"
        },
        {
         "customdata": [
          [
           "Fr. S. Antarctic Lands"
          ],
          [
           "Heard I. and McDonald Is."
          ],
          [
           "Br. Indian Ocean Ter."
          ],
          [
           "Maldives"
          ],
          [
           "Mauritius"
          ],
          [
           "S. Geo. and S. Sandw. Is."
          ],
          [
           "Saint Helena"
          ],
          [
           "Seychelles"
          ]
         ],
         "hovertemplate": "Cluster=5<br>Longitude=%{x}<br>Latitude=%{y}<br>Country=%{customdata[0]}<extra></extra>",
         "legendgroup": "5",
         "marker": {
          "color": "#FF6692",
          "symbol": "circle"
         },
         "mode": "markers",
         "name": "5",
         "orientation": "v",
         "showlegend": true,
         "type": "scatter",
         "x": [
          69.22666758,
          73.5205171,
          72.44541229,
          73.45713004,
          57.57120551,
          -36.43318388,
          -9.54779416,
          55.47603279
         ],
         "xaxis": "x",
         "y": [
          -49.24895485,
          -53.08724656,
          -7.33059751,
          3.7287092,
          -20.27768704,
          -54.46488248,
          -12.40355951,
          -4.66099094
         ],
         "yaxis": "y"
        }
       ],
       "layout": {
        "legend": {
         "title": {
          "text": "Cluster"
         },
         "tracegroupgap": 0
        },
        "margin": {
         "t": 60
        },
        "template": {
         "data": {
          "bar": [
           {
            "error_x": {
             "color": "#2a3f5f"
            },
            "error_y": {
             "color": "#2a3f5f"
            },
            "marker": {
             "line": {
              "color": "#E5ECF6",
              "width": 0.5
             },
             "pattern": {
              "fillmode": "overlay",
              "size": 10,
              "solidity": 0.2
             }
            },
            "type": "bar"
           }
          ],
          "barpolar": [
           {
            "marker": {
             "line": {
              "color": "#E5ECF6",
              "width": 0.5
             },
             "pattern": {
              "fillmode": "overlay",
              "size": 10,
              "solidity": 0.2
             }
            },
            "type": "barpolar"
           }
          ],
          "carpet": [
           {
            "aaxis": {
             "endlinecolor": "#2a3f5f",
             "gridcolor": "white",
             "linecolor": "white",
             "minorgridcolor": "white",
             "startlinecolor": "#2a3f5f"
            },
            "baxis": {
             "endlinecolor": "#2a3f5f",
             "gridcolor": "white",
             "linecolor": "white",
             "minorgridcolor": "white",
             "startlinecolor": "#2a3f5f"
            },
            "type": "carpet"
           }
          ],
          "choropleth": [
           {
            "colorbar": {
             "outlinewidth": 0,
             "ticks": ""
            },
            "type": "choropleth"
           }
          ],
          "contour": [
           {
            "colorbar": {
             "outlinewidth": 0,
             "ticks": ""
            },
            "colorscale": [
             [
              0,
              "#0d0887"
             ],
             [
              0.1111111111111111,
              "#46039f"
             ],
             [
              0.2222222222222222,
              "#7201a8"
             ],
             [
              0.3333333333333333,
              "#9c179e"
             ],
             [
              0.4444444444444444,
              "#bd3786"
             ],
             [
              0.5555555555555556,
              "#d8576b"
             ],
             [
              0.6666666666666666,
              "#ed7953"
             ],
             [
              0.7777777777777778,
              "#fb9f3a"
             ],
             [
              0.8888888888888888,
              "#fdca26"
             ],
             [
              1,
              "#f0f921"
             ]
            ],
            "type": "contour"
           }
          ],
          "contourcarpet": [
           {
            "colorbar": {
             "outlinewidth": 0,
             "ticks": ""
            },
            "type": "contourcarpet"
           }
          ],
          "heatmap": [
           {
            "colorbar": {
             "outlinewidth": 0,
             "ticks": ""
            },
            "colorscale": [
             [
              0,
              "#0d0887"
             ],
             [
              0.1111111111111111,
              "#46039f"
             ],
             [
              0.2222222222222222,
              "#7201a8"
             ],
             [
              0.3333333333333333,
              "#9c179e"
             ],
             [
              0.4444444444444444,
              "#bd3786"
             ],
             [
              0.5555555555555556,
              "#d8576b"
             ],
             [
              0.6666666666666666,
              "#ed7953"
             ],
             [
              0.7777777777777778,
              "#fb9f3a"
             ],
             [
              0.8888888888888888,
              "#fdca26"
             ],
             [
              1,
              "#f0f921"
             ]
            ],
            "type": "heatmap"
           }
          ],
          "heatmapgl": [
           {
            "colorbar": {
             "outlinewidth": 0,
             "ticks": ""
            },
            "colorscale": [
             [
              0,
              "#0d0887"
             ],
             [
              0.1111111111111111,
              "#46039f"
             ],
             [
              0.2222222222222222,
              "#7201a8"
             ],
             [
              0.3333333333333333,
              "#9c179e"
             ],
             [
              0.4444444444444444,
              "#bd3786"
             ],
             [
              0.5555555555555556,
              "#d8576b"
             ],
             [
              0.6666666666666666,
              "#ed7953"
             ],
             [
              0.7777777777777778,
              "#fb9f3a"
             ],
             [
              0.8888888888888888,
              "#fdca26"
             ],
             [
              1,
              "#f0f921"
             ]
            ],
            "type": "heatmapgl"
           }
          ],
          "histogram": [
           {
            "marker": {
             "pattern": {
              "fillmode": "overlay",
              "size": 10,
              "solidity": 0.2
             }
            },
            "type": "histogram"
           }
          ],
          "histogram2d": [
           {
            "colorbar": {
             "outlinewidth": 0,
             "ticks": ""
            },
            "colorscale": [
             [
              0,
              "#0d0887"
             ],
             [
              0.1111111111111111,
              "#46039f"
             ],
             [
              0.2222222222222222,
              "#7201a8"
             ],
             [
              0.3333333333333333,
              "#9c179e"
             ],
             [
              0.4444444444444444,
              "#bd3786"
             ],
             [
              0.5555555555555556,
              "#d8576b"
             ],
             [
              0.6666666666666666,
              "#ed7953"
             ],
             [
              0.7777777777777778,
              "#fb9f3a"
             ],
             [
              0.8888888888888888,
              "#fdca26"
             ],
             [
              1,
              "#f0f921"
             ]
            ],
            "type": "histogram2d"
           }
          ],
          "histogram2dcontour": [
           {
            "colorbar": {
             "outlinewidth": 0,
             "ticks": ""
            },
            "colorscale": [
             [
              0,
              "#0d0887"
             ],
             [
              0.1111111111111111,
              "#46039f"
             ],
             [
              0.2222222222222222,
              "#7201a8"
             ],
             [
              0.3333333333333333,
              "#9c179e"
             ],
             [
              0.4444444444444444,
              "#bd3786"
             ],
             [
              0.5555555555555556,
              "#d8576b"
             ],
             [
              0.6666666666666666,
              "#ed7953"
             ],
             [
              0.7777777777777778,
              "#fb9f3a"
             ],
             [
              0.8888888888888888,
              "#fdca26"
             ],
             [
              1,
              "#f0f921"
             ]
            ],
            "type": "histogram2dcontour"
           }
          ],
          "mesh3d": [
           {
            "colorbar": {
             "outlinewidth": 0,
             "ticks": ""
            },
            "type": "mesh3d"
           }
          ],
          "parcoords": [
           {
            "line": {
             "colorbar": {
              "outlinewidth": 0,
              "ticks": ""
             }
            },
            "type": "parcoords"
           }
          ],
          "pie": [
           {
            "automargin": true,
            "type": "pie"
           }
          ],
          "scatter": [
           {
            "fillpattern": {
             "fillmode": "overlay",
             "size": 10,
             "solidity": 0.2
            },
            "type": "scatter"
           }
          ],
          "scatter3d": [
           {
            "line": {
             "colorbar": {
              "outlinewidth": 0,
              "ticks": ""
             }
            },
            "marker": {
             "colorbar": {
              "outlinewidth": 0,
              "ticks": ""
             }
            },
            "type": "scatter3d"
           }
          ],
          "scattercarpet": [
           {
            "marker": {
             "colorbar": {
              "outlinewidth": 0,
              "ticks": ""
             }
            },
            "type": "scattercarpet"
           }
          ],
          "scattergeo": [
           {
            "marker": {
             "colorbar": {
              "outlinewidth": 0,
              "ticks": ""
             }
            },
            "type": "scattergeo"
           }
          ],
          "scattergl": [
           {
            "marker": {
             "colorbar": {
              "outlinewidth": 0,
              "ticks": ""
             }
            },
            "type": "scattergl"
           }
          ],
          "scattermapbox": [
           {
            "marker": {
             "colorbar": {
              "outlinewidth": 0,
              "ticks": ""
             }
            },
            "type": "scattermapbox"
           }
          ],
          "scatterpolar": [
           {
            "marker": {
             "colorbar": {
              "outlinewidth": 0,
              "ticks": ""
             }
            },
            "type": "scatterpolar"
           }
          ],
          "scatterpolargl": [
           {
            "marker": {
             "colorbar": {
              "outlinewidth": 0,
              "ticks": ""
             }
            },
            "type": "scatterpolargl"
           }
          ],
          "scatterternary": [
           {
            "marker": {
             "colorbar": {
              "outlinewidth": 0,
              "ticks": ""
             }
            },
            "type": "scatterternary"
           }
          ],
          "surface": [
           {
            "colorbar": {
             "outlinewidth": 0,
             "ticks": ""
            },
            "colorscale": [
             [
              0,
              "#0d0887"
             ],
             [
              0.1111111111111111,
              "#46039f"
             ],
             [
              0.2222222222222222,
              "#7201a8"
             ],
             [
              0.3333333333333333,
              "#9c179e"
             ],
             [
              0.4444444444444444,
              "#bd3786"
             ],
             [
              0.5555555555555556,
              "#d8576b"
             ],
             [
              0.6666666666666666,
              "#ed7953"
             ],
             [
              0.7777777777777778,
              "#fb9f3a"
             ],
             [
              0.8888888888888888,
              "#fdca26"
             ],
             [
              1,
              "#f0f921"
             ]
            ],
            "type": "surface"
           }
          ],
          "table": [
           {
            "cells": {
             "fill": {
              "color": "#EBF0F8"
             },
             "line": {
              "color": "white"
             }
            },
            "header": {
             "fill": {
              "color": "#C8D4E3"
             },
             "line": {
              "color": "white"
             }
            },
            "type": "table"
           }
          ]
         },
         "layout": {
          "annotationdefaults": {
           "arrowcolor": "#2a3f5f",
           "arrowhead": 0,
           "arrowwidth": 1
          },
          "autotypenumbers": "strict",
          "coloraxis": {
           "colorbar": {
            "outlinewidth": 0,
            "ticks": ""
           }
          },
          "colorscale": {
           "diverging": [
            [
             0,
             "#8e0152"
            ],
            [
             0.1,
             "#c51b7d"
            ],
            [
             0.2,
             "#de77ae"
            ],
            [
             0.3,
             "#f1b6da"
            ],
            [
             0.4,
             "#fde0ef"
            ],
            [
             0.5,
             "#f7f7f7"
            ],
            [
             0.6,
             "#e6f5d0"
            ],
            [
             0.7,
             "#b8e186"
            ],
            [
             0.8,
             "#7fbc41"
            ],
            [
             0.9,
             "#4d9221"
            ],
            [
             1,
             "#276419"
            ]
           ],
           "sequential": [
            [
             0,
             "#0d0887"
            ],
            [
             0.1111111111111111,
             "#46039f"
            ],
            [
             0.2222222222222222,
             "#7201a8"
            ],
            [
             0.3333333333333333,
             "#9c179e"
            ],
            [
             0.4444444444444444,
             "#bd3786"
            ],
            [
             0.5555555555555556,
             "#d8576b"
            ],
            [
             0.6666666666666666,
             "#ed7953"
            ],
            [
             0.7777777777777778,
             "#fb9f3a"
            ],
            [
             0.8888888888888888,
             "#fdca26"
            ],
            [
             1,
             "#f0f921"
            ]
           ],
           "sequentialminus": [
            [
             0,
             "#0d0887"
            ],
            [
             0.1111111111111111,
             "#46039f"
            ],
            [
             0.2222222222222222,
             "#7201a8"
            ],
            [
             0.3333333333333333,
             "#9c179e"
            ],
            [
             0.4444444444444444,
             "#bd3786"
            ],
            [
             0.5555555555555556,
             "#d8576b"
            ],
            [
             0.6666666666666666,
             "#ed7953"
            ],
            [
             0.7777777777777778,
             "#fb9f3a"
            ],
            [
             0.8888888888888888,
             "#fdca26"
            ],
            [
             1,
             "#f0f921"
            ]
           ]
          },
          "colorway": [
           "#636efa",
           "#EF553B",
           "#00cc96",
           "#ab63fa",
           "#FFA15A",
           "#19d3f3",
           "#FF6692",
           "#B6E880",
           "#FF97FF",
           "#FECB52"
          ],
          "font": {
           "color": "#2a3f5f"
          },
          "geo": {
           "bgcolor": "white",
           "lakecolor": "white",
           "landcolor": "#E5ECF6",
           "showlakes": true,
           "showland": true,
           "subunitcolor": "white"
          },
          "hoverlabel": {
           "align": "left"
          },
          "hovermode": "closest",
          "mapbox": {
           "style": "light"
          },
          "paper_bgcolor": "white",
          "plot_bgcolor": "#E5ECF6",
          "polar": {
           "angularaxis": {
            "gridcolor": "white",
            "linecolor": "white",
            "ticks": ""
           },
           "bgcolor": "#E5ECF6",
           "radialaxis": {
            "gridcolor": "white",
            "linecolor": "white",
            "ticks": ""
           }
          },
          "scene": {
           "xaxis": {
            "backgroundcolor": "#E5ECF6",
            "gridcolor": "white",
            "gridwidth": 2,
            "linecolor": "white",
            "showbackground": true,
            "ticks": "",
            "zerolinecolor": "white"
           },
           "yaxis": {
            "backgroundcolor": "#E5ECF6",
            "gridcolor": "white",
            "gridwidth": 2,
            "linecolor": "white",
            "showbackground": true,
            "ticks": "",
            "zerolinecolor": "white"
           },
           "zaxis": {
            "backgroundcolor": "#E5ECF6",
            "gridcolor": "white",
            "gridwidth": 2,
            "linecolor": "white",
            "showbackground": true,
            "ticks": "",
            "zerolinecolor": "white"
           }
          },
          "shapedefaults": {
           "line": {
            "color": "#2a3f5f"
           }
          },
          "ternary": {
           "aaxis": {
            "gridcolor": "white",
            "linecolor": "white",
            "ticks": ""
           },
           "baxis": {
            "gridcolor": "white",
            "linecolor": "white",
            "ticks": ""
           },
           "bgcolor": "#E5ECF6",
           "caxis": {
            "gridcolor": "white",
            "linecolor": "white",
            "ticks": ""
           }
          },
          "title": {
           "x": 0.05
          },
          "xaxis": {
           "automargin": true,
           "gridcolor": "white",
           "linecolor": "white",
           "ticks": "",
           "title": {
            "standoff": 15
           },
           "zerolinecolor": "white",
           "zerolinewidth": 2
          },
          "yaxis": {
           "automargin": true,
           "gridcolor": "white",
           "linecolor": "white",
           "ticks": "",
           "title": {
            "standoff": 15
           },
           "zerolinecolor": "white",
           "zerolinewidth": 2
          }
         }
        },
        "xaxis": {
         "anchor": "y",
         "domain": [
          0,
          1
         ],
         "range": [
          -180,
          180
         ],
         "title": {
          "text": "Longitude"
         }
        },
        "yaxis": {
         "anchor": "x",
         "domain": [
          0,
          1
         ],
         "range": [
          -90,
          90
         ],
         "title": {
          "text": "Latitude"
         }
        }
       }
      }
     },
     "metadata": {},
     "output_type": "display_data"
    }
   ],
   "source": [
    "datos_con_clusters[\"Cluster\"] = datos_con_clusters[\"Cluster\"].astype(\"category\")\n",
    "\n",
    "fig = px.scatter(datos_con_clusters, \n",
    "                 x = \"Longitude\", \n",
    "                 y = \"Latitude\", \n",
    "                 color = \"Cluster\",\n",
    "#                 color_discrete_sequence = [\"red\", \"green\", \"orange\"],\n",
    "#                 size = '', \n",
    "                 hover_data = ['Country']\n",
    "                )\n",
    "fig.update_xaxes(range=[-180, 180])\n",
    "fig.update_yaxes(range=[-90, 90])\n",
    "\n",
    "fig.show()"
   ]
  },
  {
   "cell_type": "markdown",
   "metadata": {},
   "source": [
    "Como ya se tiene todo el código necesario, regrese y pruebe con distintos valores de clusters.  Pruebe con 3, 7 and 8 y vea si los resultados satisfacen sus expectaciones. \n",
    "\n",
    "Solamente es necesario regresar al inicio de la sección de **Clustering** y cambiar kmeans = KMeans(4) a kmeans = KMeans(3).  Luego ejecute las celdas faltantes hasta el final...o ejecútelo todo de nuevo."
   ]
  }
 ],
 "metadata": {
  "kernelspec": {
   "display_name": "Python 3 (ipykernel)",
   "language": "python",
   "name": "python3"
  },
  "language_info": {
   "codemirror_mode": {
    "name": "ipython",
    "version": 3
   },
   "file_extension": ".py",
   "mimetype": "text/x-python",
   "name": "python",
   "nbconvert_exporter": "python",
   "pygments_lexer": "ipython3",
   "version": "3.10.10"
  }
 },
 "nbformat": 4,
 "nbformat_minor": 4
}
